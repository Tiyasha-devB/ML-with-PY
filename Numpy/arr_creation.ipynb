{
 "cells": [
  {
   "cell_type": "code",
   "execution_count": 2,
   "metadata": {},
   "outputs": [
    {
     "name": "stdout",
     "output_type": "stream",
     "text": [
      "The data type of a is: int64\n",
      "The data type of b is: float64\n"
     ]
    }
   ],
   "source": [
    "import numpy as np\n",
    "a = np.array([2,3,4])\n",
    "b = np.array([2.0,2.5,4.4])\n",
    "\n",
    "print(\"The data type of a is:\", a.dtype) #datatype of a is int\n",
    "print(\"The data type of b is:\", b.dtype) #datatype of a is float"
   ]
  },
  {
   "cell_type": "code",
   "execution_count": 7,
   "metadata": {},
   "outputs": [
    {
     "name": "stdout",
     "output_type": "stream",
     "text": [
      "[[1 2 3 4]\n",
      " [4 5 6 8]]\n",
      "\n",
      " [[1.+0.j 2.+0.j]\n",
      " [3.+0.j 4.+0.j]]\n"
     ]
    }
   ],
   "source": [
    "arr2D = np.array([[1,2,3,4],[4,5,6,8]])\n",
    "print (arr2D)\n",
    "\n",
    "comparr = np.array([[1,2],[3,4]],dtype=complex) #complex @D array\n",
    "print(\"\\n\",comparr)"
   ]
  },
  {
   "cell_type": "code",
   "execution_count": 19,
   "metadata": {},
   "outputs": [
    {
     "name": "stdout",
     "output_type": "stream",
     "text": [
      "[0. 0. 0.] \n",
      " [[0. 0. 0.]\n",
      " [0. 0. 0.]]\n",
      "\n",
      " [1. 1. 1. 1.] \n",
      " [[1. 1. 1. 1. 1.]\n",
      " [1. 1. 1. 1. 1.]\n",
      " [1. 1. 1. 1. 1.]\n",
      " [1. 1. 1. 1. 1.]]\n",
      "\n",
      " [[0.71558562 0.48814272]\n",
      " [0.54206026 0.53828945]\n",
      " [0.13751671 0.69186681]]\n",
      "\n",
      " [[0.71558562 0.48814272 0.54206026]\n",
      " [0.53828945 0.13751671 0.69186681]]\n"
     ]
    }
   ],
   "source": [
    "#array full of zero and ones and random no.s\n",
    "array0 = np.zeros(3)\n",
    "array2D0 = np.zeros((2,3))\n",
    "print(array0, '\\n',array2D0)\n",
    "\n",
    "array1 = np.ones(4)\n",
    "array2D1 = np.ones((4,5))\n",
    "print('\\n',array1, '\\n',array2D1)\n",
    "\n",
    "rndarray = np.random.random((3,2))\n",
    "print('\\n',rndarray)\n",
    "\n",
    "#creating empty array:\n",
    "emparray = np.empty((2,3))\n",
    "print('\\n',emparray)"
   ]
  },
  {
   "cell_type": "code",
   "execution_count": 30,
   "metadata": {},
   "outputs": [
    {
     "name": "stdout",
     "output_type": "stream",
     "text": [
      "[[7 7]\n",
      " [7 7]]\n",
      "[1 2 3 4 5 6 7 8 9]\n",
      "[98 91 97 99 99 97 91]\n",
      "[-0.32416334 -0.33341825 -0.39051674  0.23319381  0.33799241  1.47094365\n",
      "  0.80318307  2.58029895 -0.57400577  0.08331342]\n"
     ]
    }
   ],
   "source": [
    "#an array with constant\n",
    "arrcons = np.full((2,2),7) #fills with 7\n",
    "print(arrcons)\n",
    "\n",
    "#creating an array from 1 - 9(+1 increment)\n",
    "arr = np.arange(1,10,1)\n",
    "print(arr)\n",
    "\n",
    "#array with random integers\n",
    "arr1 = np.random.randint(90,100,7) #7 random integers\n",
    "print(arr1)\n",
    "\n",
    "arr2 = np.random.randn(10) #standart distribution\n",
    "print(arr2)"
   ]
  },
  {
   "cell_type": "code",
   "execution_count": 37,
   "metadata": {},
   "outputs": [
    {
     "name": "stdout",
     "output_type": "stream",
     "text": [
      "[1 2 3]\n",
      "[[4 5 6]\n",
      " [7 8 9]]\n",
      "(2, 3)\n"
     ]
    }
   ],
   "source": [
    "#creating arrays from existing array:\n",
    "x = [1,2,3]\n",
    "a = np.asarray(x) #converting list to array\n",
    "print(a)\n",
    "\n",
    "x1 = [(4,5,6),(7,8,9)]\n",
    "a1 = np.asarray(x1) #tupple to array\n",
    "print(a1)\n",
    "print(a1.shape) #dimension\n"
   ]
  },
  {
   "cell_type": "code",
   "execution_count": 44,
   "metadata": {},
   "outputs": [
    {
     "name": "stdout",
     "output_type": "stream",
     "text": [
      "[[4 5]\n",
      " [6 7]\n",
      " [8 9]]\n",
      "[[4 5 6]\n",
      " [7 8 9]]\n",
      "2\n",
      "6\n",
      "int64\n",
      "<class 'numpy.ndarray'>\n"
     ]
    }
   ],
   "source": [
    "#array resizing\n",
    "a = np.array([[4,5,6],[7,8,9]])\n",
    "a.shape = (3,2)\n",
    "print(a)\n",
    "\n",
    "b = a.reshape(2,3) #reshape method\n",
    "print(b)\n",
    "print(b.ndim)\n",
    "print(b.size)\n",
    "print(b.dtype.name)\n",
    "print(type(b))"
   ]
  }
 ],
 "metadata": {
  "kernelspec": {
   "display_name": "Python 3",
   "language": "python",
   "name": "python3"
  },
  "language_info": {
   "codemirror_mode": {
    "name": "ipython",
    "version": 3
   },
   "file_extension": ".py",
   "mimetype": "text/x-python",
   "name": "python",
   "nbconvert_exporter": "python",
   "pygments_lexer": "ipython3",
   "version": "3.12.1"
  }
 },
 "nbformat": 4,
 "nbformat_minor": 2
}
